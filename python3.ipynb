{
 "cells": [
  {
   "cell_type": "code",
   "execution_count": null,
   "id": "464d0b63",
   "metadata": {},
   "outputs": [],
   "source": [
    "#Lambda Function"
   ]
  },
  {
   "cell_type": "code",
   "execution_count": 3,
   "id": "ff739d01",
   "metadata": {},
   "outputs": [
    {
     "name": "stdout",
     "output_type": "stream",
     "text": [
      "Good Morning Soumya!\n"
     ]
    }
   ],
   "source": [
    "greet = lambda name : print(f\"Good Morning {name}!\")\n",
    "greet(\"Soumya\")"
   ]
  },
  {
   "cell_type": "code",
   "execution_count": 4,
   "id": "7bfd15b8",
   "metadata": {},
   "outputs": [
    {
     "name": "stdout",
     "output_type": "stream",
     "text": [
      "3.0\n"
     ]
    }
   ],
   "source": [
    "# take three value and compute average number\n",
    "average = lambda a, b, c: (a + b + c) / 3\n",
    "result = average(2, 3, 4)\n",
    "print(result)"
   ]
  },
  {
   "cell_type": "code",
   "execution_count": 7,
   "id": "d1fc0258",
   "metadata": {},
   "outputs": [
    {
     "name": "stdout",
     "output_type": "stream",
     "text": [
      "90\n"
     ]
    }
   ],
   "source": [
    "#product of three numbers\n",
    "product = lambda a,b,c : (a*b*c)\n",
    "results = product(3,5,6)\n",
    "print(results)"
   ]
  },
  {
   "cell_type": "code",
   "execution_count": 10,
   "id": "c2661dd9",
   "metadata": {},
   "outputs": [
    {
     "name": "stdout",
     "output_type": "stream",
     "text": [
      "[23, 4564, 89]\n"
     ]
    }
   ],
   "source": [
    "#Lambda functions with list comprehension\n",
    "even = lambda L : [x for x in L if x%2==0]\n",
    "my_list = [23,4564,89]\n",
    "print(my_list)"
   ]
  },
  {
   "cell_type": "code",
   "execution_count": 11,
   "id": "2f5e3721",
   "metadata": {},
   "outputs": [
    {
     "name": "stdout",
     "output_type": "stream",
     "text": [
      "[23, 4564, 89]\n"
     ]
    }
   ],
   "source": [
    "odd = lambda L : [x for x in L if x%2==1]\n",
    "my_list = [23,4564,89]\n",
    "print(my_list)"
   ]
  },
  {
   "cell_type": "code",
   "execution_count": null,
   "id": "2a80cc32",
   "metadata": {},
   "outputs": [],
   "source": []
  }
 ],
 "metadata": {
  "kernelspec": {
   "display_name": "Python 3 (ipykernel)",
   "language": "python",
   "name": "python3"
  },
  "language_info": {
   "codemirror_mode": {
    "name": "ipython",
    "version": 3
   },
   "file_extension": ".py",
   "mimetype": "text/x-python",
   "name": "python",
   "nbconvert_exporter": "python",
   "pygments_lexer": "ipython3",
   "version": "3.9.13"
  }
 },
 "nbformat": 4,
 "nbformat_minor": 5
}
